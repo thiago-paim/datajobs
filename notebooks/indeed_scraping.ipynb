{
 "cells": [
  {
   "cell_type": "code",
   "execution_count": 15,
   "id": "ab27a4a1-d325-4073-9581-8213a37f25af",
   "metadata": {
    "tags": []
   },
   "outputs": [],
   "source": [
    "from selenium.common.exceptions import WebDriverException\n",
    "from selenium.webdriver.chrome.options import Options\n",
    "import sys\n",
    "import time\n",
    "import undetected_chromedriver as uc\n",
    "\n",
    "sys.path.append(\"../\")\n",
    "\n",
    "from datajobs.jobs import parsers"
   ]
  },
  {
   "cell_type": "code",
   "execution_count": 17,
   "id": "53386e86-38ec-443b-b71b-c13221c11982",
   "metadata": {
    "tags": []
   },
   "outputs": [
    {
     "data": {
      "text/plain": [
       "'2.221 vagas de emprego disponíveis hoje (30 de Agosto de 2023) de Python Dados - Brasil | Indeed.com'"
      ]
     },
     "execution_count": 17,
     "metadata": {},
     "output_type": "execute_result"
    }
   ],
   "source": [
    "# Raspando listagem de vagas\n",
    "url_domain = \"https://br.indeed.com\"\n",
    "url_path = \"/jobs?q=python+dados&l=Brasil&vjk=80f70cdd34aa97e8\"\n",
    "url = url_domain + url_path\n",
    "\n",
    "options = Options()\n",
    "options.add_argument(\"--headless=new\")\n",
    "\n",
    "driver = uc.Chrome(options=options)\n",
    "driver.get(url)\n",
    "\n",
    "driver.title"
   ]
  },
  {
   "cell_type": "code",
   "execution_count": 18,
   "id": "8a0e76e8-b7bf-46b3-b92e-54cc9b1683f1",
   "metadata": {
    "tags": []
   },
   "outputs": [
    {
     "ename": "AttributeError",
     "evalue": "'IndeedJobsListParser' object has no attribute 'get_job_cards'",
     "output_type": "error",
     "traceback": [
      "\u001b[0;31m---------------------------------------------------------------------------\u001b[0m",
      "\u001b[0;31mAttributeError\u001b[0m                            Traceback (most recent call last)",
      "Cell \u001b[0;32mIn[18], line 4\u001b[0m\n\u001b[1;32m      1\u001b[0m page \u001b[38;5;241m=\u001b[39m driver\u001b[38;5;241m.\u001b[39mpage_source\n\u001b[1;32m      3\u001b[0m parser \u001b[38;5;241m=\u001b[39m parsers\u001b[38;5;241m.\u001b[39mIndeedJobsListParser(page)\n\u001b[0;32m----> 4\u001b[0m job_cards \u001b[38;5;241m=\u001b[39m \u001b[43mparser\u001b[49m\u001b[38;5;241;43m.\u001b[39;49m\u001b[43mget_job_cards\u001b[49m()\n\u001b[1;32m      5\u001b[0m \u001b[38;5;28mlen\u001b[39m(job_cards)\n",
      "\u001b[0;31mAttributeError\u001b[0m: 'IndeedJobsListParser' object has no attribute 'get_job_cards'"
     ]
    }
   ],
   "source": [
    "page = driver.page_source\n",
    "\n",
    "parser = parsers.IndeedJobsListParser(page)\n",
    "job_cards = parser.get_job_cards()\n",
    "len(job_cards)"
   ]
  },
  {
   "cell_type": "code",
   "execution_count": 7,
   "id": "be592a15-d9ea-4620-8151-9d7870f9a4ba",
   "metadata": {
    "tags": []
   },
   "outputs": [
    {
     "name": "stdout",
     "output_type": "stream",
     "text": [
      "Analista de Risco de Crédito Jr - São Paulo, SP - Indeed.com https://br.indeed.com/pagead/clk?mo=r&ad=-6NYlbfkN0DIAZV93QBeNjL9oR9LnuqBY027NVCFlfwJnEpaF0r87_MmeA76wXwgThvmp8M6yXwCu4MNeVo_QsfxNap1bJUhhGDwYi1sETutx5gqE8ITvE7Jx87ga4WcLFEQNYoquM5UsEr054JVzFoYuTF_tpBuQjnY1cPT-8fWHy5APLCVE4Uhoj3k2TITW2gfnCHVr637vJSXWtnDewdnMJLiZ1gxr3oSsXa-OUjtrTooK1ZxzW7YKpTq1PsE19tIziIrUvqcgJrbLhqxRRNAbN20BraeKqR9p15QVTuAqtAumHp8_6a75c4rqIXDRe_mwC_-44MLHgYIThzPnIbeTkpvjk7p0ZEpdcaXXVWNi7cc4pTF9CZWhIEjxY5m9x6bRJbXAc8oc4J4Ae-FCvMjShZo0Geq1AYDk8xOzaiUsO1RVsnGOGlON-NmMr49x5Sg2-UPost3sVu_RnAqRcSYulXDlfHjGmcs7O9Rf6CzKVOliHAEm3PkBLoeTZz3opRs-rTrWManKnFO0S5eQ5NxEP_-JUrTCuw404woNjB-G-j08G8Lth_fgwbnyijewr3EAUkBy7yerFu1hSCJl9DfJnUllBu6CGbbrv1ofJV5ZvznGoeXJ67NJhiImSDmOxtgtSgMzttTymeOe2GFveIeVbg9pS7E8ZE3Mw5-2VPZHuAlvk2HHTx2D7D9f2Gh34D0lJfrAXkVB8k1nCRCzjkPHmMQ-J8qATxhMdVs8-cN4EUynOjL-jXUUVUgl2AI8zXd8tOKc85iC2ILtgJuUOnGMexoOPPoBD5PkBDbktWus0vSjFybKlvUkRw4fwikSCrZmV_fO4Hxhsj2QZPqLQOAC7kzrqKHWFPsvdrnOSoHF5EazFzxuw==&xkcb=SoCH-_M3LiKyzsQuyp0LbzkdCdPP&p=0&fvj=0&vjs=3\n",
      "Cientista De Dados Júnior - São Paulo, SP - Indeed.com https://br.indeed.com/pagead/clk?mo=r&ad=-6NYlbfkN0DK20QmcZKVx9LjbuC-u5lB3rxeJCP2k8q23I1ohXQB_Ju63qY-73nzSCYa_ovISxbTFJwYvE9qLAaUXpiMGF-XYX_0zZxmDXqyUrn9EaJ8gKzIOVeke5-ziMTXuFL7X30LDQvNH76OAfFA2PrgoJaH0azfzyG1CRayiX9yJuUlc_p81Es77uN7AMshfjCRu51BVvyJOhRlBos0Mfo5tqmeyZ3_5KHsmsznOU7BYiF-JMZMjchmwkGAiTPAEKLbwS1WbB-EK4K-7blhRkPTyqt3XBLe5GCTOsIzb_cEEyOtKJEoOTSuCzHQcGMGmev8v_KjUS4CN79V9-Q2RnZJ3GNKIaGN28KTPk6NX78CNhL8z5i7l0_LXZBXFL7Gprrsw-ysVyzmN0HsM2Bj9fI4QJRmyTrhOajR1d6KkZ3x9p8UcRbFe9fVG2JHZnR145lwjgu2CVfGo7Cz-3C_71ZE95bPR4efxr4slbbtAzYYPAVP9R2CUC6Qx2RltiwKkjdqGRVeszqSW3ru8kHd3foVW2O4V2o6IcwK2i3n7EH8rb8dZTg3KhmZEPWVYVKpR9ABtTyDfhWLcv7_og==&xkcb=SoAz-_M3LiKyzsQuyp0KbzkdCdPP&p=1&fvj=0&vjs=3\n",
      "Pessoa Desenvolvedora Python - Remoto - Indeed.com https://br.indeed.com/rc/clk?jk=f73901633f380574&fccid=583060e2f53a02f1&vjs=3\n",
      "Analista de Banco de Dados Jr - Movilway - Remoto - Remoto - Indeed.com https://br.indeed.com/rc/clk?jk=556711e3020bb416&fccid=f3b54fe6f4411105&vjs=3\n",
      "Desenvolvedor(a) em Python (Plataforma de Dados) - Remoto - Indeed.com https://br.indeed.com/rc/clk?jk=28f5305d8cb6e15a&fccid=d440598bc246c586&vjs=3\n",
      "Analista de Dados (Python) - Remoto - Indeed.com https://br.indeed.com/rc/clk?jk=ea57af711ff6c823&fccid=a623d38851ccc739&vjs=3\n",
      "Cientista de dados pl (remoto) (1) - Remoto - Indeed.com https://br.indeed.com/rc/clk?jk=eb71820e3308bd43&fccid=dd616958bd9ddc12&vjs=3\n",
      "Estagiário de Dados e MIS - Remoto - Indeed.com https://br.indeed.com/rc/clk?jk=ce75845b0f6a82e3&fccid=dec45784a5e2d28c&vjs=3\n",
      "CIENTISTA DE DADOS PL - REMOTO - Remoto - Indeed.com https://br.indeed.com/rc/clk?jk=6f506d4ab1f20cad&fccid=4df8c09240f8f9eb&vjs=3\n",
      "Analista dados I - Remoto - Indeed.com https://br.indeed.com/rc/clk?jk=46b76deec3bf825f&fccid=724f5a53e81ef8f8&vjs=3\n",
      "Desenvolvedor Python - São Paulo, SP - Indeed.com https://br.indeed.com/company/Innolevels/jobs/Python-cba40857b488f004?fccid=b98f3184c24b89e7&vjs=3\n",
      "Pessoa Cientista de Dados - Remoto - Indeed.com https://br.indeed.com/rc/clk?jk=4eb78f0c67009c5e&fccid=1e9636cf35f06baa&vjs=3\n",
      "Pessoa Desenvolvedora Python - Remoto - Indeed.com https://br.indeed.com/rc/clk?jk=a55578393f4e9b2e&fccid=0bedb393cb03c383&vjs=3\n",
      "Especialista Sistemas Da Informações Pleno - São Paulo, SP - Indeed.com https://br.indeed.com/pagead/clk?mo=r&ad=-6NYlbfkN0DK20QmcZKVx9LjbuC-u5lB3rxeJCP2k8q23I1ohXQB_Ju63qY-73nzSCYa_ovISxYCFPrtLWQPAJheyqJczT01YW7fkRvSAKkueuyIwz0wg2reY8Upmf_sKN4yz-9yAD9f2oKXM2S6OqExvwzp0lb7IZtweCxRFEZ9IhVbApYdmwK2EqI2nweD45xc-jsQM8uMgwOcnMUthyVIbYVGrw_qcfjZrHVcP7G-ZP0fUKJQaq-YOndnCcAlHwG8OIm_-XOwm26JtkWOZIyGOO_qbMwoUbFbF4vIVNHjVyFeftOxA5eGY0Wrg5u6-Wxbpjg2zeaa7bNuZDkbmPfoOCe2qt6e60anu5QEGPbTS-FNLUkT8Xxbcd8UUNl-ZSpzQNCvxeoQyCG62WP8NzoRjUyRZQs3Eve5g22UTXkrXDG9EankuYOQUVg0Yqg2sylm4ZZ9uHu8bUGcsCUuVZRjAeuRmVLvzWBBRS2oOU3VVdaXcuK-CuiVCRmBpJTFN95Jfaq5ZZEpn6BtbU66jxFMkCOf4rZkTtupgfAH38v8aYSLwbCz-rERRz-46GFZhexRMx4AyzvhcIBmaMfpxw==&xkcb=SoBH-_M3LiKyzsQuyp0GbzkdCdPP&p=13&fvj=0&vjs=3\n",
      "Estágio em Desenvolvimento Mobile - Remoto - Indeed.com https://br.indeed.com/rc/clk?jk=a1a1bb3d2df5ac45&fccid=b1bd5cd18584fd5d&vjs=3\n"
     ]
    },
    {
     "data": {
      "text/plain": [
       "15"
      ]
     },
     "execution_count": 7,
     "metadata": {},
     "output_type": "execute_result"
    }
   ],
   "source": [
    "jobs = []\n",
    "for card in job_cards:  # Raspando detalhes das vaga\n",
    "    time.sleep(2)  # Pausa para evitar requests muito rápidas\n",
    "\n",
    "    job_url = url_domain + card[\"href\"]\n",
    "    driver.get(job_url)\n",
    "\n",
    "    page = driver.page_source\n",
    "    parser = parsers.IndeedJobParser(page)\n",
    "    job = parser.get_job()\n",
    "    jobs.append(job)\n",
    "    print(job[\"title\"], job[\"canonical_url\"])\n",
    "\n",
    "len(jobs)"
   ]
  },
  {
   "cell_type": "code",
   "execution_count": 10,
   "id": "ad5ad598-0d63-4c9e-a2af-365fd41de3c2",
   "metadata": {
    "tags": []
   },
   "outputs": [
    {
     "name": "stdout",
     "output_type": "stream",
     "text": [
      "Analista de Risco de Crédito Jr https://br.indeed.com/viewjob?jk=ad4fa139c1bcda7c\n",
      "Cientista De Dados Júnior https://br.indeed.com/viewjob?jk=5d482db843f4b802\n",
      "Pessoa Desenvolvedora Python https://br.indeed.com/viewjob?jk=f73901633f380574\n",
      "Analista de Banco de Dados Jr - Movilway - Remoto https://br.indeed.com/viewjob?jk=556711e3020bb416\n",
      "Desenvolvedor(a) em Python (Plataforma de Dados) https://br.indeed.com/viewjob?jk=28f5305d8cb6e15a\n",
      "Analista de Dados (Python) https://br.indeed.com/viewjob?jk=ea57af711ff6c823\n",
      "Cientista de dados pl (remoto) (1) https://br.indeed.com/viewjob?jk=eb71820e3308bd43\n",
      "Estagiário de Dados e MIS https://br.indeed.com/viewjob?jk=ce75845b0f6a82e3\n",
      "CIENTISTA DE DADOS PL - REMOTO https://br.indeed.com/viewjob?jk=6f506d4ab1f20cad\n",
      "Analista dados I https://br.indeed.com/viewjob?jk=46b76deec3bf825f\n",
      "Desenvolvedor Python https://br.indeed.com/viewjob?jk=cba40857b488f004\n",
      "Pessoa Cientista de Dados https://br.indeed.com/viewjob?jk=4eb78f0c67009c5e\n",
      "Pessoa Desenvolvedora Python https://br.indeed.com/viewjob?jk=a55578393f4e9b2e\n",
      "Especialista Sistemas Da Informações Pleno https://br.indeed.com/viewjob?jk=48c5891bbf92dcd6\n",
      "Estágio em Desenvolvimento Mobile https://br.indeed.com/viewjob?jk=a1a1bb3d2df5ac45\n"
     ]
    }
   ],
   "source": [
    "for job in jobs:\n",
    "    print(job[\"title\"], job[\"canonical_url\"])"
   ]
  },
  {
   "cell_type": "code",
   "execution_count": null,
   "id": "eea1f3b8-b92b-4764-94b6-081ab928b956",
   "metadata": {},
   "outputs": [],
   "source": []
  },
  {
   "cell_type": "code",
   "execution_count": null,
   "id": "d3982373-0811-4c1f-82fc-203fdda3ef55",
   "metadata": {},
   "outputs": [],
   "source": []
  },
  {
   "cell_type": "code",
   "execution_count": null,
   "id": "58d3e374-3fdd-4ebf-8760-6cc2f2e976f4",
   "metadata": {},
   "outputs": [],
   "source": []
  },
  {
   "cell_type": "code",
   "execution_count": null,
   "id": "4b20de99-3b21-4f22-8dac-43bb1dd61550",
   "metadata": {},
   "outputs": [],
   "source": []
  }
 ],
 "metadata": {
  "kernelspec": {
   "display_name": "Python 3 (ipykernel)",
   "language": "python",
   "name": "python3"
  },
  "language_info": {
   "codemirror_mode": {
    "name": "ipython",
    "version": 3
   },
   "file_extension": ".py",
   "mimetype": "text/x-python",
   "name": "python",
   "nbconvert_exporter": "python",
   "pygments_lexer": "ipython3",
   "version": "3.8.10"
  }
 },
 "nbformat": 4,
 "nbformat_minor": 5
}
